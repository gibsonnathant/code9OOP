{
 "cells": [
  {
   "cell_type": "code",
   "execution_count": 2,
   "id": "6e2a54bc",
   "metadata": {},
   "outputs": [],
   "source": [
    "class Patients:\n",
    "    def __init__(self, name, age, gender, blood_pressure, temperature):\n",
    "        self.name = name\n",
    "        self.age = age\n",
    "        self.gender = gender\n",
    "        self.blood_pressure = blood_pressure\n",
    "        self.temperature = temperature\n",
    "        \n",
    "    def display_patient_info(self):\n",
    "        print(f\"Name: {self.name}\\nAge: {self.age}\\nGender: {self.gender}\\nBlood Pressure: {self.blood_pressure[0]} / {self.blood_pressure[1]}\\nTemperature: {self.temperature}\")\n",
    "            \n",
    "    def is_hypertensive(self):\n",
    "        systolic, diastolic = self.blood_pressure\n",
    "        return systolic >= 140 or diastolic >= 90\n",
    "    \n",
    "    def is_feverish(self):\n",
    "        return self.temperature >= 37.5"
   ]
  },
  {
   "cell_type": "code",
   "execution_count": 3,
   "id": "f8ccf9c5",
   "metadata": {},
   "outputs": [],
   "source": [
    "# defining data\n",
    "patient1 = Patients(\"John Doe\", 45, \"Male\", (140, 85), 36.8)\n",
    "patient2 = Patients(\"Jane Smith\", 32, \"Female\", (130, 88), 37.6)"
   ]
  },
  {
   "cell_type": "code",
   "execution_count": 4,
   "id": "87177346",
   "metadata": {},
   "outputs": [
    {
     "name": "stdout",
     "output_type": "stream",
     "text": [
      "Name: John Doe\n",
      "Age: 45\n",
      "Gender: Male\n",
      "Blood Pressure: 140 / 85\n",
      "Temperature: 36.8\n"
     ]
    }
   ],
   "source": [
    "# display patient info\n",
    "patient1.display_patient_info()"
   ]
  },
  {
   "cell_type": "code",
   "execution_count": 5,
   "id": "c37f437a",
   "metadata": {},
   "outputs": [
    {
     "data": {
      "text/plain": [
       "True"
      ]
     },
     "execution_count": 5,
     "metadata": {},
     "output_type": "execute_result"
    }
   ],
   "source": [
    "# checking for hypertension\n",
    "patient1.is_hypertensive()"
   ]
  },
  {
   "cell_type": "code",
   "execution_count": 6,
   "id": "5ec01a0b",
   "metadata": {},
   "outputs": [
    {
     "data": {
      "text/plain": [
       "False"
      ]
     },
     "execution_count": 6,
     "metadata": {},
     "output_type": "execute_result"
    }
   ],
   "source": [
    "# checking for fever\n",
    "patient1.is_feverish()"
   ]
  },
  {
   "cell_type": "code",
   "execution_count": 7,
   "id": "65119752",
   "metadata": {},
   "outputs": [
    {
     "name": "stdout",
     "output_type": "stream",
     "text": [
      "Name: Jane Smith\n",
      "Age: 32\n",
      "Gender: Female\n",
      "Blood Pressure: 130 / 88\n",
      "Temperature: 37.6\n"
     ]
    }
   ],
   "source": [
    "# display patient info\n",
    "patient2.display_patient_info()"
   ]
  },
  {
   "cell_type": "code",
   "execution_count": 8,
   "id": "c3fe78f3",
   "metadata": {},
   "outputs": [
    {
     "data": {
      "text/plain": [
       "False"
      ]
     },
     "execution_count": 8,
     "metadata": {},
     "output_type": "execute_result"
    }
   ],
   "source": [
    "# checking for hypertension\n",
    "patient2.is_hypertensive()"
   ]
  },
  {
   "cell_type": "code",
   "execution_count": 9,
   "id": "3b3b7b2c",
   "metadata": {},
   "outputs": [
    {
     "data": {
      "text/plain": [
       "True"
      ]
     },
     "execution_count": 9,
     "metadata": {},
     "output_type": "execute_result"
    }
   ],
   "source": [
    "# checking for fever\n",
    "patient2.is_feverish()"
   ]
  },
  {
   "cell_type": "code",
   "execution_count": null,
   "id": "c7ff8610",
   "metadata": {},
   "outputs": [],
   "source": []
  }
 ],
 "metadata": {
  "kernelspec": {
   "display_name": "Python 3 (ipykernel)",
   "language": "python",
   "name": "python3"
  },
  "language_info": {
   "codemirror_mode": {
    "name": "ipython",
    "version": 3
   },
   "file_extension": ".py",
   "mimetype": "text/x-python",
   "name": "python",
   "nbconvert_exporter": "python",
   "pygments_lexer": "ipython3",
   "version": "3.10.9"
  }
 },
 "nbformat": 4,
 "nbformat_minor": 5
}
